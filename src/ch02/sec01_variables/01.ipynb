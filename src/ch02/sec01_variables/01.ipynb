{
 "cells": [
  {
   "metadata": {},
   "cell_type": "markdown",
   "source": "# 변수\n"
  },
  {
   "metadata": {},
   "cell_type": "markdown",
   "source": "https://kotlinlang.org/docs/kotlin-tour-hello-world.html#variables"
  },
  {
   "metadata": {},
   "cell_type": "code",
   "outputs": [],
   "execution_count": null,
   "source": [
    "// 1. 변수 정의하기\n",
    "// 변수 정의 방법은 2가지 있음 var vs val\n",
    "// 변수 형태\n",
    "// val time = 15\n",
    "// val은 값 value에서 유래\n",
    "// time 은 새 변수에 이름을 부여하고 이를 가르킬때 사용\n",
    "// 15는 초깃값(initial value)을 정의"
   ]
  },
  {
   "metadata": {
    "ExecuteTime": {
     "end_time": "2025-08-26T15:18:47.422966766Z",
     "start_time": "2025-08-26T15:18:42.325572089Z"
    }
   },
   "cell_type": "code",
   "source": [
    "val a = readLine()!!.toInt()\n",
    "val b = readLine()!!.toInt()\n",
    "println(a + b)\n",
    "\n",
    "// readLine() : 한 줄을 읽어서 문자열로 반환하는 표준 코틀린 함수\n",
    "// !!은 널 아님 단언(not-null assertion)으로 널인지 아닌지 확실하지\n",
    "// 않은 값에 대해 toInt()함수를 막아 null을 방지 하는데\n",
    "// !!은 여기서 콘솔로 값을 무조건 줄 의도가 확실하므로 !!로 널이 될\n",
    "// 수 있는 가능성을 무시하게 만든다."
   ],
   "outputs": [
    {
     "name": "stdout",
     "output_type": "stream",
     "text": [
      "40\n"
     ]
    }
   ],
   "execution_count": 4
  },
  {
   "cell_type": "code",
   "metadata": {
    "collapsed": true,
    "ExecuteTime": {
     "end_time": "2025-08-26T15:14:32.167668970Z",
     "start_time": "2025-08-26T15:14:32.058671625Z"
    }
   },
   "source": [
    "// 읽기 전용 변수 val\n",
    "// 변경 가능한 변수 var\n",
    "val popcorn = 5 // 팝콘 변수를 정수5 초기화(불변)\n",
    "val hotdog = 7 // 핫도그라는 이름의 변수에 7초기화(불변)\n",
    "var customers = 10 // 고객 변수에 10 초기화. 값 변경 가능"
   ],
   "outputs": [],
   "execution_count": 2
  },
  {
   "metadata": {},
   "cell_type": "code",
   "outputs": [],
   "execution_count": null,
   "source": [
    "// 값 할당 하기\n",
    "// 할당 연산자 = 사용"
   ]
  },
  {
   "metadata": {
    "ExecuteTime": {
     "end_time": "2025-08-26T15:14:33.622638149Z",
     "start_time": "2025-08-26T15:14:33.496541563Z"
    }
   },
   "cell_type": "code",
   "source": [
    "var customizer = 8\n",
    "customizer = 5\n",
    "println(customizer)\n",
    "//https://kotlinlang.org/docs/kotlin-tour-hello-world.html#practice\u0013"
   ],
   "outputs": [
    {
     "name": "stdout",
     "output_type": "stream",
     "text": [
      "5\n"
     ]
    }
   ],
   "execution_count": 3
  }
 ],
 "metadata": {
  "kernelspec": {
   "display_name": "Kotlin",
   "language": "kotlin",
   "name": "kotlin"
  },
  "language_info": {
   "name": "kotlin",
   "version": "2.2.20-dev-4982",
   "mimetype": "text/x-kotlin",
   "file_extension": ".kt",
   "pygments_lexer": "kotlin",
   "codemirror_mode": "text/x-kotlin",
   "nbconvert_exporter": ""
  }
 },
 "nbformat": 4,
 "nbformat_minor": 0
}
