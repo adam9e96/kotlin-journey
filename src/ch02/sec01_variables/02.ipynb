{
 "cells": [
  {
   "metadata": {},
   "cell_type": "markdown",
   "source": [
    "# 코틀린 타입추론(Type inference)\n",
    "\n",
    "변수나 함수를 선언하거나 연산이 이루어질 때 자료형을 코드에 명시하지 않아도 코틀린이 자동으로 자료형을\n",
    "추론하는 기능"
   ]
  },
  {
   "cell_type": "code",
   "execution_count": null,
   "metadata": {
    "collapsed": true
   },
   "outputs": [],
   "source": [
    "val stringValue:String = \"my String\"\n",
    "val stringValue = \"my String\" // Type 생략 가능\n",
    "\n",
    "val intArr: Array<Int> = arrayOf(1,2,3,4,5)\n",
    "val intArr = arrayOf(1,2,3,4,5) // Type 생략 가능\n",
    "// 코틀린에서는 타입을 명시하지 않아도, 변수가 선언될 때 할당된 값의 형태로 어떤 자료형을 가지는지\n",
    "// 추론해줌\n",
    "// 반드시 특정 자료형으로 지정해야하는 상황이 아니라면, 타입 추론 기능을 활용하여 코드량을 줄일 수\n",
    "// 있다.\n",
    "\n",
    "// 타입을 명시하려면 변수 이름뒤에 콜론(:)을 표시하고, 그 뒤에 타입을 적는다.\n",
    "\n",
    "val n: Int = 100\n",
    "val text:String = \"Hello\"\n",
    "\n",
    "// 타입을 지정한 경우 초깃값이 지정한 타입에 속해야 한다.\n",
    "// val n2: Int = \"hello!\" // Initializer type mismatch: expected 'Int', actual 'String'.\n"
   ]
  },
  {
   "metadata": {},
   "cell_type": "code",
   "outputs": [],
   "execution_count": null,
   "source": [
    "val text: String = \"문자열\"\n",
    "val text = \"문자열\"\n",
    "val a = 'c' // Char\n",
    "val b = \"c\" // String\n",
    "\n",
    "var intArr: Array<Int> = arrayOf(1,2,3,4,5)\n",
    "var intArr = arrayOf(1,2,3,4,5)"
   ]
  },
  {
   "metadata": {},
   "cell_type": "code",
   "outputs": [],
   "execution_count": null,
   "source": [
    "var a = 1234 // Int\n",
    "var b = 1234L // Long\n",
    "\n",
    "var c = 12.45 // Double\n",
    "var d = 12.45f // Float\n",
    "\n",
    "var e = 0xABCD // Int\n",
    "var f = 0b0101101 // Int\n",
    "\n",
    "var g = true // Boolean\n",
    "var h = 'c' // Char"
   ]
  },
  {
   "metadata": {},
   "cell_type": "markdown",
   "source": [
    "## 변수 초기화 미루기\n",
    "타입추론을 이용하면 초깃값을 생략하고 나중에 다른 문에서 변수를 초기화 할 수도 있다.\n",
    "다만 변수 값을 읽기 전에 초기화를 해야한다."
   ]
  },
  {
   "metadata": {},
   "cell_type": "code",
   "outputs": [],
   "execution_count": null,
   "source": [
    "var text2: String\n",
    "text2 = \"hello\"\n"
   ]
  }
 ],
 "metadata": {
  "kernelspec": {
   "display_name": "Kotlin",
   "language": "kotlin",
   "name": "kotlin"
  },
  "language_info": {
   "name": "kotlin",
   "version": "2.2.20-dev-4982",
   "mimetype": "text/x-kotlin",
   "file_extension": ".kt",
   "pygments_lexer": "kotlin",
   "codemirror_mode": "text/x-kotlin",
   "nbconvert_exporter": ""
  }
 },
 "nbformat": 4,
 "nbformat_minor": 0
}
