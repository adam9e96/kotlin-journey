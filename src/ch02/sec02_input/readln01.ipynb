{
 "cells": [
  {
   "metadata": {},
   "cell_type": "markdown",
   "source": [
    "# 표준입력으로 값 저장하기\n",
    "`readln()` 함수는 사용자가 입력한 줄 전체를 문자열로 읽음"
   ]
  },
  {
   "metadata": {
    "ExecuteTime": {
     "end_time": "2025-08-26T15:26:56.643013305Z",
     "start_time": "2025-08-26T15:26:48.914118470Z"
    }
   },
   "cell_type": "code",
   "source": [
    "println(\"단어를 입력하세요: \")\n",
    "val yourWord = readln()\n",
    "println(\"입력한 단어는: \")\n",
    "println(yourWord)"
   ],
   "outputs": [
    {
     "name": "stdout",
     "output_type": "stream",
     "text": [
      "단어를 입력하세요: \n",
      "입력한 단어는: \n",
      "hehelk\n"
     ]
    }
   ],
   "execution_count": 2
  }
 ],
 "metadata": {
  "kernelspec": {
   "display_name": "Kotlin",
   "language": "kotlin",
   "name": "kotlin"
  },
  "language_info": {
   "name": "kotlin",
   "version": "2.2.20-dev-4982",
   "mimetype": "text/x-kotlin",
   "file_extension": ".kt",
   "pygments_lexer": "kotlin",
   "codemirror_mode": "text/x-kotlin",
   "nbconvert_exporter": ""
  }
 },
 "nbformat": 4,
 "nbformat_minor": 0
}
